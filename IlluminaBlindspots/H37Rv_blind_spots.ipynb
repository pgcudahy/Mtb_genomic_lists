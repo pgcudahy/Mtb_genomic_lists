{
 "cells": [
  {
   "cell_type": "markdown",
   "id": "enhanced-relaxation",
   "metadata": {
    "kernel": "SoS"
   },
   "source": [
    "# H37Rv blind spots and their attributes\n",
    "\n",
    "From DOI [10.5281/zenodo.3701839](https://zenodo.org/record/3701840), version 1"
   ]
  },
  {
   "cell_type": "code",
   "execution_count": null,
   "id": "varied-generic",
   "metadata": {
    "kernel": "R"
   },
   "outputs": [],
   "source": [
    "library(tidyverse)"
   ]
  },
  {
   "cell_type": "code",
   "execution_count": null,
   "id": "geographic-engine",
   "metadata": {
    "kernel": "R"
   },
   "outputs": [],
   "source": [
    "library(GenomicRanges)"
   ]
  },
  {
   "cell_type": "code",
   "execution_count": null,
   "id": "dramatic-reconstruction",
   "metadata": {
    "kernel": "R"
   },
   "outputs": [],
   "source": [
    "library(rtracklayer)"
   ]
  },
  {
   "cell_type": "markdown",
   "id": "changed-antenna",
   "metadata": {
    "kernel": "SoS"
   },
   "source": [
    "### Check the md5 sum. Should be 760937f135f5c463c4e377d8db6cc8ee"
   ]
  },
  {
   "cell_type": "code",
   "execution_count": null,
   "id": "stainless-latin",
   "metadata": {
    "kernel": "R"
   },
   "outputs": [],
   "source": [
    "tools::md5sum(\"S7-seq-attributes.csv\") == \"760937f135f5c463c4e377d8db6cc8ee\""
   ]
  },
  {
   "cell_type": "code",
   "execution_count": null,
   "id": "nuclear-vertex",
   "metadata": {
    "kernel": "R"
   },
   "outputs": [],
   "source": [
    "h37rv_blind_spots <-  read_csv(\"S7-seq-attributes.csv\",\n",
    "         col_types = cols(rv_position = col_double(),\n",
    "              pal = col_skip(),\n",
    "              homopolymer = col_skip(),\n",
    "              GCrich = col_skip(),\n",
    "              repetitive = col_skip(),\n",
    "              blindspot = col_factor())) %>%\n",
    "    mutate(chrom = \"NC_000962.3\")"
   ]
  },
  {
   "cell_type": "code",
   "execution_count": null,
   "id": "ranking-address",
   "metadata": {
    "kernel": "R"
   },
   "outputs": [],
   "source": [
    "head(h37rv_blind_spots)"
   ]
  },
  {
   "cell_type": "markdown",
   "id": "sudden-permit",
   "metadata": {
    "kernel": "R"
   },
   "source": [
    "### Need to compress these individual positions into ranges for the `bed` format\n",
    "\n",
    "Per https://genome.ucsc.edu/FAQ/FAQformat.html#format1\n",
    "\n",
    "The first three required BED fields are:\n",
    "\n",
    "chrom - The name of the chromosome (e.g. chr3, chrY, chr2_random) or scaffold (e.g. scaffold10671).\n",
    "\n",
    "chromStart - The starting position of the feature in the chromosome or scaffold. The first base in a chromosome is numbered 0.\n",
    "\n",
    "chromEnd - The ending position of the feature in the chromosome or scaffold. The chromEnd base is not included in the display of the feature, however, the number in position format will be represented. For example, the first 100 bases of chromosome 1 are defined as chrom=1, chromStart=0, chromEnd=100, and span the bases numbered 0-99 in our software (not 0-100), but will represent the position notation chr1:1-100. Read more here."
   ]
  },
  {
   "cell_type": "code",
   "execution_count": null,
   "id": "promotional-steal",
   "metadata": {
    "kernel": "R"
   },
   "outputs": [],
   "source": [
    "h37rv_blind_spots_gr <- makeGRangesFromDataFrame(h37rv_blind_spots %>%\n",
    "                                                 filter(blindspot == 1),\n",
    "                         start.field=\"rv_position\",\n",
    "                         end.field=\"rv_position\")"
   ]
  },
  {
   "cell_type": "code",
   "execution_count": null,
   "id": "young-michigan",
   "metadata": {
    "kernel": "R"
   },
   "outputs": [],
   "source": [
    "head(h37rv_blind_spots_gr)"
   ]
  },
  {
   "cell_type": "code",
   "execution_count": null,
   "id": "automated-briefing",
   "metadata": {
    "kernel": "R"
   },
   "outputs": [],
   "source": [
    "width(h37rv_blind_spots_gr)"
   ]
  },
  {
   "cell_type": "code",
   "execution_count": null,
   "id": "metric-mambo",
   "metadata": {
    "kernel": "R"
   },
   "outputs": [],
   "source": [
    "length(h37rv_blind_spots_gr)"
   ]
  },
  {
   "cell_type": "code",
   "execution_count": null,
   "id": "intended-warning",
   "metadata": {
    "kernel": "R"
   },
   "outputs": [],
   "source": [
    "range(h37rv_blind_spots_gr)"
   ]
  },
  {
   "cell_type": "code",
   "execution_count": null,
   "id": "inside-tolerance",
   "metadata": {
    "kernel": "R"
   },
   "outputs": [],
   "source": [
    "(h37rv_blind_spots_gr_reduced <- reduce(h37rv_blind_spots_gr))"
   ]
  },
  {
   "cell_type": "code",
   "execution_count": null,
   "id": "equipped-browser",
   "metadata": {
    "kernel": "R"
   },
   "outputs": [],
   "source": [
    "data.frame(seqnames=seqnames(h37rv_blind_spots_gr_reduced),\n",
    "    starts=start(h37rv_blind_spots_gr_reduced)-1,\n",
    "    ends=end(h37rv_blind_spots_gr_reduced)) %>%\n",
    "    write.table(file=\"h37rv_blind_spots.bed\", \n",
    "                quote=F, sep=\"\\t\", row.names=F, col.names=F)"
   ]
  },
  {
   "cell_type": "code",
   "execution_count": null,
   "id": "timely-consequence",
   "metadata": {
    "kernel": "Bash"
   },
   "outputs": [],
   "source": [
    "head h37rv_blind_spots.bed"
   ]
  },
  {
   "cell_type": "markdown",
   "id": "distinct-walker",
   "metadata": {
    "kernel": "R"
   },
   "source": [
    "# Compare it to Torsten Seeman's mask file"
   ]
  },
  {
   "cell_type": "code",
   "execution_count": null,
   "id": "composed-malawi",
   "metadata": {
    "kernel": "R"
   },
   "outputs": [],
   "source": [
    "(torsten_mask_gr <- rtracklayer::import.bed(\"../TSeeman_H37Rv_mask/Mtb_NC_000962.3_mask.bed\"))"
   ]
  },
  {
   "cell_type": "code",
   "execution_count": null,
   "id": "detailed-arabic",
   "metadata": {
    "kernel": "R"
   },
   "outputs": [],
   "source": [
    "intersect(h37rv_blind_spots_gr_reduced, torsten_mask_gr)"
   ]
  },
  {
   "cell_type": "code",
   "execution_count": null,
   "id": "circular-franchise",
   "metadata": {
    "kernel": "R"
   },
   "outputs": [],
   "source": [
    "width(h37rv_blind_spots_gr_reduced) %>% sum"
   ]
  },
  {
   "cell_type": "code",
   "execution_count": null,
   "id": "forced-stretch",
   "metadata": {
    "kernel": "R"
   },
   "outputs": [],
   "source": [
    "width(intersect(h37rv_blind_spots_gr_reduced, torsten_mask_gr)) %>% sum"
   ]
  },
  {
   "cell_type": "code",
   "execution_count": null,
   "id": "conceptual-robinson",
   "metadata": {
    "kernel": "R"
   },
   "outputs": [],
   "source": [
    "width(intersect(h37rv_blind_spots_gr_reduced, torsten_mask_gr)) %>% sum / \n",
    "width(h37rv_blind_spots_gr_reduced) %>% sum * 100"
   ]
  },
  {
   "cell_type": "markdown",
   "id": "amended-samba",
   "metadata": {
    "kernel": "R"
   },
   "source": [
    "# Torsten's list only has 46% of the bases in the blind spots paper"
   ]
  },
  {
   "cell_type": "code",
   "execution_count": null,
   "id": "measured-alliance",
   "metadata": {
    "kernel": "R"
   },
   "outputs": [],
   "source": [
    "setdiff(h37rv_blind_spots_gr_reduced, torsten_mask_gr)"
   ]
  },
  {
   "cell_type": "code",
   "execution_count": null,
   "id": "worth-closing",
   "metadata": {
    "kernel": "R"
   },
   "outputs": [],
   "source": [
    "width(setdiff(h37rv_blind_spots_gr_reduced, torsten_mask_gr)) %>% sum"
   ]
  },
  {
   "cell_type": "code",
   "execution_count": null,
   "id": "political-warning",
   "metadata": {
    "kernel": "R"
   },
   "outputs": [],
   "source": [
    "width(setdiff(h37rv_blind_spots_gr_reduced, torsten_mask_gr)) %>% sum / \n",
    "width(h37rv_blind_spots_gr_reduced) %>% sum * 100"
   ]
  },
  {
   "cell_type": "markdown",
   "id": "known-luxembourg",
   "metadata": {
    "kernel": "R"
   },
   "source": [
    "# As expected, if 46% are covered, 54% of the bases in the blind spots list are independent of Torsten's"
   ]
  },
  {
   "cell_type": "code",
   "execution_count": null,
   "id": "abandoned-adult",
   "metadata": {
    "kernel": "R"
   },
   "outputs": [],
   "source": [
    "setdiff(torsten_mask_gr, h37rv_blind_spots_gr_reduced)"
   ]
  },
  {
   "cell_type": "code",
   "execution_count": null,
   "id": "plastic-extraction",
   "metadata": {
    "kernel": "R"
   },
   "outputs": [],
   "source": [
    "width(setdiff(torsten_mask_gr, h37rv_blind_spots_gr_reduced)) %>% sum"
   ]
  },
  {
   "cell_type": "code",
   "execution_count": null,
   "id": "thousand-shell",
   "metadata": {
    "kernel": "R"
   },
   "outputs": [],
   "source": [
    "width(setdiff(torsten_mask_gr, h37rv_blind_spots_gr_reduced)) %>% sum / \n",
    "width(h37rv_blind_spots_gr_reduced) %>% sum * 100"
   ]
  },
  {
   "cell_type": "markdown",
   "id": "productive-surge",
   "metadata": {
    "kernel": "R"
   },
   "source": [
    "# Torsten's list has additional bases that equal 85% of the length of the blind spots list\n",
    "\n",
    "## Might be nice to make some visualizations of the different areas covered by the different lists as well as analyze differences by gene categories"
   ]
  },
  {
   "cell_type": "code",
   "execution_count": null,
   "id": "distinguished-operations",
   "metadata": {
    "kernel": "R"
   },
   "outputs": [],
   "source": []
  }
 ],
 "metadata": {
  "kernelspec": {
   "display_name": "SoS",
   "language": "sos",
   "name": "sos"
  },
  "language_info": {
   "codemirror_mode": "sos",
   "file_extension": ".sos",
   "mimetype": "text/x-sos",
   "name": "sos",
   "nbconvert_exporter": "sos_notebook.converter.SoS_Exporter",
   "pygments_lexer": "sos"
  },
  "sos": {
   "kernels": [
    [
     "Bash",
     "bash",
     "Bash",
     "#E6EEFF",
     "shell"
    ],
    [
     "R",
     "ir",
     "R",
     "#DCDCDA",
     "r"
    ]
   ],
   "panel": {
    "displayed": false,
    "height": 0
   },
   "version": "0.21.21"
  }
 },
 "nbformat": 4,
 "nbformat_minor": 5
}
