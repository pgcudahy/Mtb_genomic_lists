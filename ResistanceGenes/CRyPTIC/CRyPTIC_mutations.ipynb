{
 "cells": [
  {
   "cell_type": "markdown",
   "metadata": {},
   "source": [
    "## Turn table S2 from the supplementary appendix of \"Prediction of Susceptibility to First-Line Tuberculosis Drugs by DNA Sequencing. New England Journal of Medicine 2018;0:null. doi:10.1056/NEJMoa1800474\" into a CSV file\n"
   ]
  },
  {
   "cell_type": "markdown",
   "metadata": {},
   "source": [
    "Per the table \n",
    "\n",
    "\"Gene coordinates based on NC_000962.2, with 100 nucleotide positions upstream of each gene read as well. Mutations characterised as 'S' in Walker et al but as 'R' by another source, were characterised as 'R'. Insertions and deletions characterise in Walker et al were re-computed from that data for this study\n",
    "to ensure that the same version of Cortex was used for both data sets. These indels may therefore differ a little from those published in Walker et al.\""
   ]
  },
  {
   "cell_type": "code",
   "execution_count": null,
   "metadata": {
    "inputHidden": false,
    "outputHidden": false
   },
   "outputs": [],
   "source": [
    "#install.packages(c(\"pdftools\", \"tidyverse\"))"
   ]
  },
  {
   "cell_type": "code",
   "execution_count": null,
   "metadata": {},
   "outputs": [],
   "source": [
    "library(tidyverse)"
   ]
  },
  {
   "cell_type": "code",
   "execution_count": null,
   "metadata": {},
   "outputs": [],
   "source": [
    "library(pdftools)"
   ]
  },
  {
   "cell_type": "code",
   "execution_count": null,
   "metadata": {
    "inputHidden": false,
    "outputHidden": false
   },
   "outputs": [],
   "source": [
    "sessionInfo()"
   ]
  },
  {
   "cell_type": "markdown",
   "metadata": {},
   "source": [
    "# Load the PDF file"
   ]
  },
  {
   "cell_type": "markdown",
   "metadata": {},
   "source": [
    "You'll need a PDF copy of the supplementary appendix. Here it's named as when downloaded from nejm.org as \"nejmoa1800474_appendix.pdf"
   ]
  },
  {
   "cell_type": "code",
   "execution_count": null,
   "metadata": {
    "inputHidden": false,
    "outputHidden": false
   },
   "outputs": [],
   "source": [
    "supplementary_appendix_text <- pdf_text(\"nejmoa1800474_appendix.pdf\")"
   ]
  },
  {
   "cell_type": "markdown",
   "metadata": {},
   "source": [
    "Split it up into pages"
   ]
  },
  {
   "cell_type": "code",
   "execution_count": null,
   "metadata": {
    "inputHidden": false,
    "outputHidden": false
   },
   "outputs": [],
   "source": [
    "supplementary_appendix_text_pages <- \n",
    "    strsplit(supplementary_appendix_text, \"\\n\")"
   ]
  },
  {
   "cell_type": "code",
   "execution_count": null,
   "metadata": {
    "inputHidden": false,
    "outputHidden": false
   },
   "outputs": [],
   "source": [
    "length(supplementary_appendix_text_pages)"
   ]
  },
  {
   "cell_type": "markdown",
   "metadata": {},
   "source": [
    "126 pages. Let's search them for the begining of our table"
   ]
  },
  {
   "cell_type": "code",
   "execution_count": null,
   "metadata": {
    "inputHidden": false,
    "outputHidden": false
   },
   "outputs": [],
   "source": [
    "which(grepl(\"Table S2\", supplementary_appendix_text_pages, fixed=TRUE))"
   ]
  },
  {
   "cell_type": "markdown",
   "metadata": {},
   "source": [
    "Two hits. Line 2 is probably the table of contents. Let's look at line 96"
   ]
  },
  {
   "cell_type": "code",
   "execution_count": null,
   "metadata": {
    "inputHidden": false,
    "outputHidden": false
   },
   "outputs": [],
   "source": [
    "supplementary_appendix_text_pages[96]"
   ]
  },
  {
   "cell_type": "markdown",
   "metadata": {},
   "source": [
    "Looks good. Let's find the end where table S3 starts."
   ]
  },
  {
   "cell_type": "code",
   "execution_count": null,
   "metadata": {
    "inputHidden": false,
    "outputHidden": false
   },
   "outputs": [],
   "source": [
    "which(grepl(\"Table S3\", supplementary_appendix_text_pages, fixed=TRUE))"
   ]
  },
  {
   "cell_type": "code",
   "execution_count": null,
   "metadata": {
    "inputHidden": false,
    "outputHidden": false
   },
   "outputs": [],
   "source": [
    "supplementary_appendix_text_pages[110]"
   ]
  },
  {
   "cell_type": "markdown",
   "metadata": {},
   "source": [
    "Okay, we need to extract pages 96 to 109"
   ]
  },
  {
   "cell_type": "code",
   "execution_count": null,
   "metadata": {
    "inputHidden": false,
    "outputHidden": false
   },
   "outputs": [],
   "source": [
    "tableS2 <- supplementary_appendix_text_pages[96:109]"
   ]
  },
  {
   "cell_type": "code",
   "execution_count": null,
   "metadata": {
    "inputHidden": false,
    "outputHidden": false
   },
   "outputs": [],
   "source": [
    "head(tableS2[[1]], 10)"
   ]
  },
  {
   "cell_type": "markdown",
   "metadata": {},
   "source": [
    "Currently it's a list of lists. Let's unwrap that a bit"
   ]
  },
  {
   "cell_type": "code",
   "execution_count": null,
   "metadata": {},
   "outputs": [],
   "source": [
    "tableS2 = unlist(tableS2, recursive=FALSE)"
   ]
  },
  {
   "cell_type": "code",
   "execution_count": null,
   "metadata": {},
   "outputs": [],
   "source": [
    "which(startsWith(tableS2, \"Drug\"))"
   ]
  },
  {
   "cell_type": "markdown",
   "metadata": {},
   "source": [
    "The table starts on element 7"
   ]
  },
  {
   "cell_type": "code",
   "execution_count": null,
   "metadata": {
    "inputHidden": false,
    "outputHidden": false
   },
   "outputs": [],
   "source": [
    "tableS2[7]"
   ]
  },
  {
   "cell_type": "markdown",
   "metadata": {},
   "source": [
    "Start to set up a dataframe"
   ]
  },
  {
   "cell_type": "code",
   "execution_count": null,
   "metadata": {},
   "outputs": [],
   "source": [
    "column_names <- c(\"Drug\", \"Mutation\", \"Comment\", \"Characterisation\", \"Source\")"
   ]
  },
  {
   "cell_type": "markdown",
   "metadata": {},
   "source": [
    "Now to remove the header lines"
   ]
  },
  {
   "cell_type": "code",
   "execution_count": null,
   "metadata": {},
   "outputs": [],
   "source": [
    "tableS2 <- tableS2[8:length(tableS2)]"
   ]
  },
  {
   "cell_type": "code",
   "execution_count": null,
   "metadata": {},
   "outputs": [],
   "source": [
    "head(tableS2)"
   ]
  },
  {
   "cell_type": "markdown",
   "metadata": {},
   "source": [
    "And get rid of the page number lines"
   ]
  },
  {
   "cell_type": "code",
   "execution_count": null,
   "metadata": {},
   "outputs": [],
   "source": [
    "tableS2[which(startsWith(tableS2, \" \"))]"
   ]
  },
  {
   "cell_type": "markdown",
   "metadata": {},
   "source": [
    "What's with that \"Yadon\" line?"
   ]
  },
  {
   "cell_type": "code",
   "execution_count": null,
   "metadata": {},
   "outputs": [],
   "source": [
    "tableS2[1058:1060]"
   ]
  },
  {
   "cell_type": "markdown",
   "metadata": {},
   "source": [
    "Weird misformat. No idea where that 1919 came from"
   ]
  },
  {
   "cell_type": "code",
   "execution_count": null,
   "metadata": {},
   "outputs": [],
   "source": [
    "tableS2[1059] <- \"Pyrazinamide pncA_E174G    R Yadon et. al., Nature Communications 2017 Sep 19\""
   ]
  },
  {
   "cell_type": "code",
   "execution_count": null,
   "metadata": {},
   "outputs": [],
   "source": [
    "tableS2 <- tableS2[-which(startsWith(tableS2, \" \"))]"
   ]
  },
  {
   "cell_type": "markdown",
   "metadata": {},
   "source": [
    "There's also a typo where a column gets cut off"
   ]
  },
  {
   "cell_type": "code",
   "execution_count": null,
   "metadata": {},
   "outputs": [],
   "source": [
    "which(grepl(\"codon 425\", tableS2, fixed=TRUE))"
   ]
  },
  {
   "cell_type": "code",
   "execution_count": null,
   "metadata": {},
   "outputs": [],
   "source": [
    "tableS2[746]"
   ]
  },
  {
   "cell_type": "markdown",
   "metadata": {},
   "source": [
    "The ending codon was cutoff. This is the RpoB RRDR. The Hain MDRTBPlus actually covers 424-452, so let's adjust"
   ]
  },
  {
   "cell_type": "code",
   "execution_count": null,
   "metadata": {},
   "outputs": [],
   "source": [
    "tableS2[746] <- 'Rifampicin   rpoB: Any amino acid substitution or insertion/deletion from codon 424 to codon 452 R\n",
    "WHO endorsed line probe assays / Xpert MTB/RIF'"
   ]
  },
  {
   "cell_type": "markdown",
   "metadata": {},
   "source": [
    "Now for a function to read each line and turn into a vector. The tricky part is that some entries have an entry in the indels column, a comment if any mutation in the codon is considered resistant, or for \"phylogenetetic\" comments. Will have to search for these and put into a comments field"
   ]
  },
  {
   "cell_type": "code",
   "execution_count": null,
   "metadata": {},
   "outputs": [],
   "source": [
    "readEntries <- function(line) {\n",
    "    words <- unlist(strsplit(line, \"\\\\s{1,}\"))\n",
    "    comment <- NA\n",
    "    if (endsWith(words[2], \"indel\")) {\n",
    "        comment <- words[3]\n",
    "        words <- words[-3]\n",
    "        }\n",
    "    if (endsWith(words[2], \":\")) {\n",
    "        comment <- words[3]\n",
    "        j <- 4\n",
    "        while(words[j] != \"R\" & words[j] != \"S\") {\n",
    "            comment <- paste(comment, words[j])\n",
    "            j <- j + 1\n",
    "        }\n",
    "        output <- (c(words[1], substring(words[2],1,(nchar(words[2]) -1)), comment, words[j], \n",
    "                paste(words[j:length(words)], collapse=\" \")))\n",
    "    }\n",
    "    else if (startsWith(words[4], \"(Phylogenetic\")) {\n",
    "        output <- (c(words[1:2], \"Phylogenetic SN\", words[3], \"Walker TM et. al., Lancet Infect Dis. 2015 Jun 23\"))\n",
    "    }\n",
    "    else {\n",
    "        output <- (c(words[1:2], comment, words[3], paste(words[4:length(words)], collapse=\" \")))\n",
    "    }\n",
    "    if (output[4] != \"R\" & output[4] != \"S\") {\n",
    "        output <- c(output[1:2], substring(output[3],1,(nchar(output[3]) -1)), \n",
    "                    substring(output[3],nchar(output[3]),nchar(output[3])), \n",
    "                    paste(words[3:length(words)], collapse=\" \"))\n",
    "        print(output)\n",
    "    }\n",
    "    return(output)\n",
    "}"
   ]
  },
  {
   "cell_type": "code",
   "execution_count": null,
   "metadata": {},
   "outputs": [],
   "source": [
    "entries <- lapply(tableS2[1:(length(tableS2))], readEntries)"
   ]
  },
  {
   "cell_type": "code",
   "execution_count": null,
   "metadata": {},
   "outputs": [],
   "source": [
    "entries"
   ]
  },
  {
   "cell_type": "code",
   "execution_count": null,
   "metadata": {},
   "outputs": [],
   "source": [
    "mutations_df <- data.frame(matrix(unlist(entries), nrow=length(entries), byrow=T), stringsAsFactors=FALSE)"
   ]
  },
  {
   "cell_type": "code",
   "execution_count": null,
   "metadata": {},
   "outputs": [],
   "source": [
    "mutations_df <- setNames(mutations_df, column_names)"
   ]
  },
  {
   "cell_type": "code",
   "execution_count": null,
   "metadata": {},
   "outputs": [],
   "source": [
    "mutations_df"
   ]
  },
  {
   "cell_type": "code",
   "execution_count": null,
   "metadata": {},
   "outputs": [],
   "source": []
  },
  {
   "cell_type": "markdown",
   "metadata": {},
   "source": [
    "# Known Issues:"
   ]
  },
  {
   "cell_type": "markdown",
   "metadata": {},
   "source": [
    "The following deletions got truncated in the source PDF\n",
    "\n",
    "1. ahpC_-400_588+586_del_GGTGGCCAGCCACACCGCCCGGGTGTTG\n",
    "2. pncA_-1526_561+4428_del_GCGTTGGGGTGTCTTGACCTGTCGTCC\n",
    "3. pncA_-745_492_del_TGCGCTGGTCGGGTTTCGGCGCCACCCATGCC"
   ]
  },
  {
   "cell_type": "markdown",
   "metadata": {},
   "source": [
    "Not all of the mutations are machine readable\n"
   ]
  },
  {
   "cell_type": "code",
   "execution_count": null,
   "metadata": {},
   "outputs": [],
   "source": [
    "unique(mutations_df$Source)"
   ]
  },
  {
   "cell_type": "code",
   "execution_count": null,
   "metadata": {},
   "outputs": [],
   "source": [
    "mutations_df[mutations_df$Source == ]"
   ]
  }
 ],
 "metadata": {
  "kernel_info": {
   "name": "ir"
  },
  "kernelspec": {
   "display_name": "R",
   "language": "R",
   "name": "ir"
  },
  "language_info": {
   "codemirror_mode": "r",
   "file_extension": ".r",
   "mimetype": "text/x-r-source",
   "name": "R",
   "pygments_lexer": "r",
   "version": "3.6.0"
  },
  "nteract": {
   "version": "0.15.0"
  }
 },
 "nbformat": 4,
 "nbformat_minor": 4
}
