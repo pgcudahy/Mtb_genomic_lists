{
 "cells": [
  {
   "cell_type": "markdown",
   "metadata": {},
   "source": [
    "# Extract confidence-graded mutation lists from the 2018 WHO report and put into machine readable tables"
   ]
  },
  {
   "cell_type": "code",
   "execution_count": null,
   "metadata": {},
   "outputs": [],
   "source": [
    "library(tidyverse)"
   ]
  },
  {
   "cell_type": "code",
   "execution_count": null,
   "metadata": {},
   "outputs": [],
   "source": [
    "library(tabulizer)"
   ]
  },
  {
   "cell_type": "markdown",
   "metadata": {},
   "source": [
    "Table 3 of mutations associated with INH resistance is pages 33-35"
   ]
  },
  {
   "cell_type": "code",
   "execution_count": null,
   "metadata": {},
   "outputs": [],
   "source": [
    "WHO_NGS_2018_INH <- \n",
    "    extract_tables(\"World Health Organization - 2018 - The use of next-generation sequencing technologies.pdf\",\n",
    "                  pages = c(33:35))"
   ]
  },
  {
   "cell_type": "markdown",
   "metadata": {},
   "source": [
    "Try and wrangle this matrix into a dataframe"
   ]
  },
  {
   "cell_type": "code",
   "execution_count": null,
   "metadata": {},
   "outputs": [],
   "source": [
    "WHO_NGS_2018_INH[[1]] %>% \n",
    "    `colnames<-`(map(1:ncol(WHO_NGS_2018_INH[[1]]), ~ paste(WHO_NGS_2018_INH[[1]][1:3,.x], collapse=\"_\")) %>%\n",
    "    sub(\"_*$\",\"\",.)) %>%\n",
    "    as_tibble %>%\n",
    "    tail(-3)"
   ]
  },
  {
   "cell_type": "code",
   "execution_count": null,
   "metadata": {},
   "outputs": [],
   "source": [
    "WHO_NGS_2018_INH[[2]] %>% \n",
    "    `colnames<-`(map(1:ncol(WHO_NGS_2018_INH[[1]]), ~ paste(WHO_NGS_2018_INH[[1]][1:3,.x], collapse=\"_\")) %>%\n",
    "    sub(\"_*$\",\"\",.)) %>%\n",
    "    as_tibble %>%\n",
    "    tail(-3)"
   ]
  },
  {
   "cell_type": "code",
   "execution_count": null,
   "metadata": {},
   "outputs": [],
   "source": [
    "WHO_NGS_2018_INH[[3]]"
   ]
  },
  {
   "cell_type": "code",
   "execution_count": null,
   "metadata": {},
   "outputs": [],
   "source": [
    "WHO_NGS_2018_INH[[3]] %>% \n",
    "    `colnames<-`(map(1:ncol(WHO_NGS_2018_INH[[1]]), ~ paste(WHO_NGS_2018_INH[[1]][1:3,.x], collapse=\"_\")) %>%\n",
    "    sub(\"_*$\",\"\",.)) %>%\n",
    "    as_tibble %>%\n",
    "    tail(-3)"
   ]
  },
  {
   "cell_type": "code",
   "execution_count": null,
   "metadata": {},
   "outputs": [],
   "source": [
    "WHO_NGS_2018_INH <- \n",
    "    extract_areas(\"World Health Organization - 2018 - The use of next-generation sequencing technologies.pdf\",\n",
    "                  pages = c(35))"
   ]
  },
  {
   "cell_type": "code",
   "execution_count": null,
   "metadata": {},
   "outputs": [],
   "source": [
    "extr"
   ]
  }
 ],
 "metadata": {
  "kernelspec": {
   "display_name": "R",
   "language": "R",
   "name": "ir"
  },
  "language_info": {
   "codemirror_mode": "r",
   "file_extension": ".r",
   "mimetype": "text/x-r-source",
   "name": "R",
   "pygments_lexer": "r",
   "version": "3.6.0"
  }
 },
 "nbformat": 4,
 "nbformat_minor": 2
}
