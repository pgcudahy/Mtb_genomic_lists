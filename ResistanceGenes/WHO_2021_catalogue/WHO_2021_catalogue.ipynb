{
 "cells": [
  {
   "cell_type": "code",
   "execution_count": null,
   "id": "e8ea03a7",
   "metadata": {
    "vscode": {
     "languageId": "r"
    }
   },
   "outputs": [],
   "source": [
    "library(tidyverse)"
   ]
  },
  {
   "cell_type": "code",
   "execution_count": null,
   "id": "bd405471",
   "metadata": {
    "vscode": {
     "languageId": "r"
    }
   },
   "outputs": [],
   "source": [
    "library(readxl)"
   ]
  },
  {
   "cell_type": "code",
   "execution_count": null,
   "id": "ba9bb858",
   "metadata": {
    "vscode": {
     "languageId": "r"
    }
   },
   "outputs": [],
   "source": [
    "resistance_df <- read_excel(\"WHO-UCN-GTB-PCI-2021.7-eng.xlsx\", sheet=\"Mutation_catalogue\",\n",
    "                            skip = 1, .name_repair = function(x) gsub(\"\\\\s+\", \"_\", x),\n",
    "                            na = \"NA\", guess_max = 15000)"
   ]
  },
  {
   "cell_type": "code",
   "execution_count": null,
   "id": "e52f3b3a",
   "metadata": {
    "vscode": {
     "languageId": "r"
    }
   },
   "outputs": [],
   "source": [
    "head(resistance_df)"
   ]
  },
  {
   "cell_type": "markdown",
   "id": "730512c4",
   "metadata": {},
   "source": [
    "## The spreadsheet has two rows of column names, so for the initial input I skipped the first  row. Now I need to import the first row then add it into the missing slots in the second row."
   ]
  },
  {
   "cell_type": "code",
   "execution_count": null,
   "id": "06133a02",
   "metadata": {
    "vscode": {
     "languageId": "r"
    }
   },
   "outputs": [],
   "source": [
    "column_heads <- read_excel(\"WHO-UCN-GTB-PCI-2021.7-eng.xlsx\", sheet=\"Mutation_catalogue\",\n",
    "                           range=\"A1:AZ1\", .name_repair = function(x) gsub(\"\\\\s+\", \"_\", x))"
   ]
  },
  {
   "cell_type": "code",
   "execution_count": null,
   "id": "6d31370d",
   "metadata": {
    "vscode": {
     "languageId": "r"
    }
   },
   "outputs": [],
   "source": [
    "colnames(column_heads)"
   ]
  },
  {
   "cell_type": "code",
   "execution_count": null,
   "id": "ccc7e58f",
   "metadata": {
    "vscode": {
     "languageId": "r"
    }
   },
   "outputs": [],
   "source": [
    "colnames(resistance_df) <- map2(colnames(resistance_df), colnames(column_heads),\n",
    "     function(x,y) ifelse(x == \"\", y, x))"
   ]
  },
  {
   "cell_type": "code",
   "execution_count": null,
   "id": "2eebfc5f",
   "metadata": {
    "vscode": {
     "languageId": "r"
    }
   },
   "outputs": [],
   "source": [
    "head(resistance_df)"
   ]
  },
  {
   "cell_type": "code",
   "execution_count": null,
   "id": "55912dbb",
   "metadata": {
    "vscode": {
     "languageId": "r"
    }
   },
   "outputs": [],
   "source": [
    "resistance_df$FINAL_CONFIDENCE_GRADING %>%\n",
    "    unique"
   ]
  },
  {
   "cell_type": "markdown",
   "id": "af169842",
   "metadata": {},
   "source": [
    "### \"Mutations in the interim categories consisted primarily of those found in scenarios in which less strict statistical grading thresholds were applied when appropriate (e.g. for PZA), when information from previous WHO guidance was used (e.g. for some inhA promoter mutations for INH), when expert rules were applied (when justified) and in other specific scenarios detailed later in the document.\""
   ]
  },
  {
   "cell_type": "code",
   "execution_count": null,
   "id": "7fd38e7c",
   "metadata": {
    "vscode": {
     "languageId": "r"
    }
   },
   "outputs": [],
   "source": [
    "resistance_df <- resistance_df %>%\n",
    "    mutate(FINAL_CONFIDENCE_GRADING = factor(resistance_df$FINAL_CONFIDENCE_GRADING, \n",
    "                                             levels=c('1) Assoc w R', '2) Assoc w R - Interim', \n",
    "                                                      '3) Uncertain significance', '4) Not assoc w R - Interim',\n",
    "                                                      '5) Not assoc w R', 'combo')))"
   ]
  },
  {
   "cell_type": "code",
   "execution_count": null,
   "id": "eaf3a25d",
   "metadata": {
    "vscode": {
     "languageId": "r"
    }
   },
   "outputs": [],
   "source": [
    "write_rds(resistance_df, \"WHO_2021_catalog.rds\")"
   ]
  },
  {
   "cell_type": "code",
   "execution_count": null,
   "id": "cc0cf3d9",
   "metadata": {
    "vscode": {
     "languageId": "r"
    }
   },
   "outputs": [],
   "source": [
    "write_csv(resistance_df, \"WHO_2021_catalog.csv\")"
   ]
  },
  {
   "cell_type": "code",
   "execution_count": null,
   "id": "0f0f481f",
   "metadata": {
    "vscode": {
     "languageId": "r"
    }
   },
   "outputs": [],
   "source": []
  }
 ],
 "metadata": {
  "kernelspec": {
   "display_name": "R",
   "language": "R",
   "name": "ir"
  },
  "language_info": {
   "codemirror_mode": "r",
   "file_extension": ".r",
   "mimetype": "text/x-r-source",
   "name": "R",
   "pygments_lexer": "r",
   "version": "4.0.4"
  }
 },
 "nbformat": 4,
 "nbformat_minor": 5
}
