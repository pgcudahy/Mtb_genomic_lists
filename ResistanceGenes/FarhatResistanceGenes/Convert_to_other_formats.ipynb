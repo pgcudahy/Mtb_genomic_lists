{
 "cells": [
  {
   "cell_type": "code",
   "execution_count": null,
   "id": "departmental-dutch",
   "metadata": {},
   "outputs": [],
   "source": [
    "library(tidyverse)"
   ]
  },
  {
   "cell_type": "code",
   "execution_count": null,
   "id": "broke-divide",
   "metadata": {},
   "outputs": [],
   "source": [
    "library(readxl)"
   ]
  },
  {
   "cell_type": "code",
   "execution_count": null,
   "id": "annual-shanghai",
   "metadata": {},
   "outputs": [],
   "source": [
    "farhat_resistance_genes_H37Rv <- read_excel(\"elife-61805-supp5-v2.xlsx\")"
   ]
  },
  {
   "cell_type": "code",
   "execution_count": null,
   "id": "thousand-sight",
   "metadata": {},
   "outputs": [],
   "source": [
    "head(farhat_resistance_genes_H37Rv)"
   ]
  },
  {
   "cell_type": "code",
   "execution_count": null,
   "id": "automated-gnome",
   "metadata": {},
   "outputs": [],
   "source": [
    "write_csv(farhat_resistance_genes_H37Rv, \"farhat_resistance_genes_H37Rv_0_index.csv\")"
   ]
  },
  {
   "cell_type": "markdown",
   "id": "agreed-hawaiian",
   "metadata": {},
   "source": [
    "## BED files start at 0 rather than 1. Are these 0-indexed or 1-indexed?\n",
    "\n",
    "Looking at Rv0005, according to https://mycobrowser.epfl.ch/genes/Rv0005 it starts at 5240. Mycobrowser is 1-indexed, so looks like this list is 0-indexed"
   ]
  },
  {
   "cell_type": "code",
   "execution_count": null,
   "id": "empty-pasta",
   "metadata": {},
   "outputs": [],
   "source": [
    "farhat_resistance_genes_H37Rv %>%\n",
    "    mutate(\"Chrom\" = \"NC_000962.3\") %>%\n",
    "    select(\"Chrom\", \"H37Rv Start\", \"H37Rv End\") %>%\n",
    "    write.table(file=\"farhat_resistance_genes_H37Rv_0_index.bed\", \n",
    "                quote=F, sep=\"\\t\", row.names=F, col.names=F)"
   ]
  },
  {
   "cell_type": "code",
   "execution_count": null,
   "id": "complimentary-zimbabwe",
   "metadata": {},
   "outputs": [],
   "source": []
  }
 ],
 "metadata": {
  "kernelspec": {
   "display_name": "R",
   "language": "R",
   "name": "ir"
  },
  "language_info": {
   "codemirror_mode": "r",
   "file_extension": ".r",
   "mimetype": "text/x-r-source",
   "name": "R",
   "pygments_lexer": "r",
   "version": "3.6.0"
  }
 },
 "nbformat": 4,
 "nbformat_minor": 5
}
